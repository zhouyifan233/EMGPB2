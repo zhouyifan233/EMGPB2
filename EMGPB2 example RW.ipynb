{
 "cells": [
  {
   "cell_type": "markdown",
   "metadata": {},
   "source": [
    "# EM for GPB2 using Constant Velocity Model "
   ]
  },
  {
   "cell_type": "code",
   "execution_count": 1,
   "metadata": {},
   "outputs": [],
   "source": [
    "import numpy as np\n",
    "from scipy.stats import multivariate_normal\n",
    "from matplotlib import pyplot as plt\n",
    "from copy import copy\n",
    "from datetime import datetime, timedelta\n",
    "\n",
    "from stonesoup.functions import gm_reduce_single\n",
    "\n",
    "from stonesoup.predictor.kalman import KalmanPredictor\n",
    "from stonesoup.updater.kalman import KalmanUpdater\n",
    "from stonesoup.predictor.imm import IMMPredictor\n",
    "from stonesoup.updater.imm import IMMUpdater\n",
    "from stonesoup.models.transition.linear import ConstantVelocity, \\\n",
    "    CombinedLinearGaussianTransitionModel, LinearGaussianTimeInvariantTransitionModel, RandomWalk\n",
    "\n",
    "from stonesoup.models.measurement.linear import LinearGaussian\n",
    "\n",
    "from stonesoup.types.state import GaussianState\n",
    "from stonesoup.types.hypothesis import SingleHypothesis\n",
    "from stonesoup.types.detection import Detection\n",
    "from stonesoup.types.state import StateVector, CovarianceMatrix, \\\n",
    "    GaussianMixtureState, WeightedGaussianState\n",
    "from stonesoup.types.track import Track\n",
    "\n",
    "from stonesoup.simulator.simple import SingleTargetGroundTruthSimulator\n",
    "\n",
    "from matplotlib.patches import Ellipse\n"
   ]
  },
  {
   "cell_type": "code",
   "execution_count": 2,
   "metadata": {},
   "outputs": [],
   "source": [
    "from emgpb2.states import Gaussian as EMGPB2Gaussian\n",
    "from emgpb2.states import GMM as EMGPB2GMM\n",
    "from emgpb2.states import GMMSequence as EMGPB2GMMSequence\n",
    "from emgpb2.models import RandomWalk as EMGPB2RandomWalk\n",
    "from emgpb2.models import ConstantVelocity as EMGPB2ConstantVelocity\n",
    "from emgpb2.EM import SKFEstimator\n",
    "from emgpb2.utils import Utility"
   ]
  },
  {
   "cell_type": "markdown",
   "metadata": {},
   "source": [
    "## Scenarios: choose one scenario"
   ]
  },
  {
   "cell_type": "markdown",
   "metadata": {},
   "source": [
    "Scenario 0: EM GPB2 works fine. The estimated track is very similar to the groundtruth.\n",
    "\n",
    "Scenario 1: EM GPB2 works fine. But two models converged to same paramters."
   ]
  },
  {
   "cell_type": "code",
   "execution_count": 3,
   "metadata": {},
   "outputs": [],
   "source": [
    "Scenario = 0"
   ]
  },
  {
   "cell_type": "markdown",
   "metadata": {},
   "source": [
    "## Groundtruth parameters."
   ]
  },
  {
   "cell_type": "markdown",
   "metadata": {},
   "source": [
    "### Define two constant velocity models."
   ]
  },
  {
   "cell_type": "code",
   "execution_count": 4,
   "metadata": {},
   "outputs": [],
   "source": [
    "# dimension of state vector and observation\n",
    "state_dim = 2\n",
    "obs_dim = 2\n",
    "\n",
    "# iteration numbers of two models\n",
    "iter_model_1 = 220\n",
    "iter_model_2 = 180\n",
    "\n",
    "# Define scenarios groundtruth part\n",
    "if Scenario == 0:\n",
    "    gt_process_sigma_1 = 2.0\n",
    "    gt_process_sigma_2 = 10.0\n",
    "    gt_measurement_sigma_1 = 0.5\n",
    "    gt_measurement_sigma_2 = 0.75\n",
    "elif Scenario == 1:\n",
    "    gt_process_sigma_1 = 0.5\n",
    "    gt_process_sigma_2 = 2.0\n",
    "    gt_measurement_sigma_1 = 3.5\n",
    "    gt_measurement_sigma_2 = 1.5\n",
    "    \n",
    "\n",
    "# define transition models\n",
    "gt_transition_model_1 = CombinedLinearGaussianTransitionModel(\n",
    "                        (RandomWalk(gt_process_sigma_1 ** 2),\n",
    "                         RandomWalk(gt_process_sigma_1 ** 2)))\n",
    "gt_transition_model_2 = CombinedLinearGaussianTransitionModel(\n",
    "                        (RandomWalk(gt_process_sigma_2 ** 2),\n",
    "                         RandomWalk(gt_process_sigma_2 ** 2)))\n",
    "\n",
    "# define measurement models\n",
    "mesurement_noise_1 = np.diag([gt_measurement_sigma_1 ** 2, gt_measurement_sigma_1 ** 2])\n",
    "measurement_model_1 = LinearGaussian(ndim_state=2, mapping=[0, 1], noise_covar=mesurement_noise_1)\n",
    "mesurement_noise_2 = np.diag([gt_measurement_sigma_2 ** 2, gt_measurement_sigma_2 ** 2])\n",
    "measurement_model_2 = LinearGaussian(ndim_state=2, mapping=[0, 1], noise_covar=mesurement_noise_2)\n"
   ]
  },
  {
   "cell_type": "markdown",
   "metadata": {},
   "source": [
    "## Suppose we don't know the parameters of the models.\n",
    "## We guess a set of parameters for IMM."
   ]
  },
  {
   "cell_type": "code",
   "execution_count": 5,
   "metadata": {},
   "outputs": [],
   "source": [
    "# Define scenarios groundtruth part\n",
    "if Scenario == 0:\n",
    "    init_P = [5.0, 5.0]\n",
    "    q = [1.0, 20.0]\n",
    "    r = [3.0, 3.0]\n",
    "elif Scenario == 1:\n",
    "    init_P = [1.0, 3.0]\n",
    "    q = [0.1, 5.0]\n",
    "    r = [3.0, 3.0]"
   ]
  },
  {
   "cell_type": "markdown",
   "metadata": {},
   "source": [
    "## Generate groundtruth and detections."
   ]
  },
  {
   "cell_type": "code",
   "execution_count": 6,
   "metadata": {},
   "outputs": [],
   "source": [
    "# generate groundtruth\n",
    "gt_track = []\n",
    "gt_time = []\n",
    "timestamp_init = datetime.now()\n",
    "\n",
    "# model 1\n",
    "state_init_1 = GaussianState(StateVector(np.zeros((state_dim, 1))),\n",
    "                           CovarianceMatrix(np.zeros((state_dim, state_dim))),\n",
    "                           timestamp=timestamp_init)\n",
    "gt_generator_1 = SingleTargetGroundTruthSimulator(gt_transition_model_1, state_init_1, number_steps=iter_model_1)\n",
    "for time, gnd_paths in gt_generator_1.groundtruth_paths_gen():\n",
    "    gnd_path = gnd_paths.pop()\n",
    "    gt_track.append(gnd_path.state)\n",
    "    gt_time.append(time)\n",
    "\n",
    "# model 2\n",
    "state_init_2 = GaussianState(gt_track[-1].state_vector, \n",
    "                             CovarianceMatrix(np.zeros((state_dim, state_dim))), \n",
    "                             timestamp=gt_time[-1])\n",
    "gt_generator_2 = SingleTargetGroundTruthSimulator(gt_transition_model_2, state_init_2, number_steps=iter_model_2)\n",
    "for time, gnd_paths in gt_generator_2.groundtruth_paths_gen():\n",
    "    gnd_path = gnd_paths.pop()\n",
    "    gt_track.append(gnd_path.state)\n",
    "    gt_time.append(time)\n",
    "\n",
    "# generate detections (adding noise)\n",
    "# model 1\n",
    "detection_track = []\n",
    "for i in range(iter_model_1):\n",
    "    m_ = Detection(measurement_model_1.function(gt_track[i].state_vector, measurement_model_1.rvs(1)), gt_time[i])\n",
    "    detection_track.append(m_)\n",
    "# model 2\n",
    "for i in range(iter_model_2):\n",
    "    ii = i + iter_model_1\n",
    "    m_ = Detection(measurement_model_2.function(gt_track[ii].state_vector, measurement_model_2.rvs(1)), gt_time[ii])\n",
    "    detection_track.append(m_)"
   ]
  },
  {
   "cell_type": "markdown",
   "metadata": {},
   "source": [
    "## Perform IMM using groundtruth paramters."
   ]
  },
  {
   "cell_type": "code",
   "execution_count": 7,
   "metadata": {},
   "outputs": [],
   "source": [
    "# model transition probability\n",
    "model_transition_matrix = np.array([[0.5, 0.5],\n",
    "                                    [0.5, 0.5]])\n",
    "\n",
    "# define two kalman predictors. re-use the groundtruth transition model.\n",
    "predictor_1 = KalmanPredictor(gt_transition_model_1)\n",
    "predictor_2 = KalmanPredictor(gt_transition_model_2)\n",
    "\n",
    "# define IMM predictor\n",
    "imm_predictor = IMMPredictor([predictor_1, predictor_2],\n",
    "                             model_transition_matrix)\n",
    "\n",
    "# define two kalman updaters. re-use the groundtruth measurement model.\n",
    "updater_1 = KalmanUpdater(measurement_model_1)\n",
    "updater_2 = KalmanUpdater(measurement_model_2)\n",
    "\n",
    "# define IMM updater\n",
    "imm_updater = IMMUpdater([updater_1, updater_2], model_transition_matrix)\n",
    "\n",
    "# initialise state for kalman filter 1\n",
    "ft_state_init_1 = WeightedGaussianState(StateVector(np.zeros((state_dim, 1))),\n",
    "                                      CovarianceMatrix(np.eye(state_dim) * 1.0),\n",
    "                                      timestamp=timestamp_init,\n",
    "                                      weight=0.5)\n",
    "\n",
    "# initialise state for kalman filter 2\n",
    "ft_state_init_2 = WeightedGaussianState(StateVector(np.zeros((state_dim, 1))),\n",
    "                                      CovarianceMatrix(np.eye(state_dim) * 1.0),\n",
    "                                      timestamp=timestamp_init,\n",
    "                                      weight=0.5)\n",
    "\n",
    "# define Gaussian Mixture model for initial state\n",
    "prior = GaussianMixtureState([ft_state_init_1, ft_state_init_2])\n",
    "track = Track([copy(prior)])\n",
    "\n",
    "# tracking\n",
    "track_error = []\n",
    "for i in range(1, len(detection_track)-1):\n",
    "    # measurement\n",
    "    measurement = detection_track[i]\n",
    "    # State prediction\n",
    "    prediction = imm_predictor.predict(track.state, timestamp=gt_time[i])\n",
    "    # Measurement prediction\n",
    "    meas_prediction = imm_updater.predict_measurement(prediction)\n",
    "    # Association\n",
    "    hyp = SingleHypothesis(prediction, measurement)\n",
    "    # State update\n",
    "    prior = imm_updater.update(hyp)\n",
    "    track.append(prior)\n",
    "    track_error.append(measurement_model_1.function(track[i].state_vector, np.zeros((obs_dim, 1)))\n",
    "                       - measurement_model_1.function(gt_track[i].state_vector, np.zeros((obs_dim, 1))))"
   ]
  },
  {
   "cell_type": "markdown",
   "metadata": {},
   "source": [
    "## The Root Mean Squared Error (RMSE) between the estimated track (groundtruth paramters) and the groundtruth."
   ]
  },
  {
   "cell_type": "code",
   "execution_count": 8,
   "metadata": {},
   "outputs": [
    {
     "name": "stdout",
     "output_type": "stream",
     "text": [
      "RMSE: 0.915968605436958\n"
     ]
    }
   ],
   "source": [
    "track_error = np.asarray(track_error)\n",
    "track_error = np.squeeze(track_error)\n",
    "rmse_tmp = []\n",
    "for track_error_ in track_error:\n",
    "    rmse_tmp.append(track_error_ @ track_error_.T)\n",
    "rmse = np.sqrt(np.mean(np.array(rmse_tmp)))\n",
    "print(\"RMSE: \" + str(rmse))"
   ]
  },
  {
   "cell_type": "markdown",
   "metadata": {},
   "source": [
    "## Perform IMM using guessed paramters."
   ]
  },
  {
   "cell_type": "code",
   "execution_count": 9,
   "metadata": {
    "scrolled": true
   },
   "outputs": [],
   "source": [
    "# define model transition probability\n",
    "ft_model_transition_matrix = np.array([[0.5, 0.5],\n",
    "                                       [0.5, 0.5]])\n",
    "# define transition model 1 using guessed parameter\n",
    "ft_transition_model_1 = CombinedLinearGaussianTransitionModel(\n",
    "                        (RandomWalk(q[0] ** 2),\n",
    "                         RandomWalk(q[0] ** 2)))\n",
    "# define transition model 2 using guessed parameter\n",
    "ft_transition_model_2 = CombinedLinearGaussianTransitionModel(\n",
    "                        (RandomWalk(q[1] ** 2),\n",
    "                         RandomWalk(q[1] ** 2)))\n",
    "\n",
    "# define measurement model. use same measurement model for two Kalman filters.\n",
    "ft_measurement_noise = np.diag([r[0] ** 2, r[0] ** 2])\n",
    "ft_measurement_model = LinearGaussian(ndim_state=2, mapping=[0, 1],\n",
    "                                   noise_covar=ft_measurement_noise)\n",
    "\n",
    "# define two kalman updaters.\n",
    "ft_predictor_1 = KalmanPredictor(ft_transition_model_1)\n",
    "ft_predictor_2 = KalmanPredictor(ft_transition_model_2)\n",
    "\n",
    "# define IMM predictor\n",
    "ft_imm_predictor = IMMPredictor([ft_predictor_1, ft_predictor_2], ft_model_transition_matrix)\n",
    "\n",
    "# define IMM updater. use same measurement model for two Kalman filters.\n",
    "ft_updater = KalmanUpdater(ft_measurement_model)\n",
    "ft_imm_updater = IMMUpdater([copy(ft_updater), copy(ft_updater)], ft_model_transition_matrix)\n",
    "\n",
    "# define Gaussian Mixture model for initial state. We used the same initial state as previous filter.\n",
    "prior = GaussianMixtureState([ft_state_init_1, ft_state_init_2])\n",
    "track = Track([copy(prior)])\n",
    "track_error = []\n",
    "\n",
    "for i in range(1, len(detection_track)-1):\n",
    "    # measurement\n",
    "    measurement = detection_track[i]\n",
    "    # State prediction\n",
    "    prediction = ft_imm_predictor.predict(track.state, timestamp=gt_time[i])\n",
    "    # Measurement prediction\n",
    "    meas_prediction = ft_imm_updater.predict_measurement(prediction)\n",
    "    # Association\n",
    "    hyp = SingleHypothesis(prediction, measurement)\n",
    "    # State update\n",
    "    prior = ft_imm_updater.update(hyp)\n",
    "    track.append(prior)\n",
    "    track_error.append(ft_measurement_model.function(track[i].state_vector, np.zeros((2,1))) - ft_measurement_model.function(gt_track[i].state_vector, np.zeros((2,1))))"
   ]
  },
  {
   "cell_type": "markdown",
   "metadata": {},
   "source": [
    "## The Root Mean Squared Error (RMSE) between the estimated track (guessed parameters) and the groundtruth."
   ]
  },
  {
   "cell_type": "code",
   "execution_count": 10,
   "metadata": {},
   "outputs": [
    {
     "name": "stdout",
     "output_type": "stream",
     "text": [
      "RMSE: 2.1153188808511234\n"
     ]
    }
   ],
   "source": [
    "track_error = np.asarray(track_error)\n",
    "track_error = np.squeeze(track_error)\n",
    "rmse_tmp = []\n",
    "for track_error_ in track_error:\n",
    "    rmse_tmp.append(track_error_ @ track_error_.T)\n",
    "rmse = np.sqrt(np.mean(np.array(rmse_tmp)))\n",
    "print(\"RMSE: \" + str(rmse))"
   ]
  },
  {
   "cell_type": "markdown",
   "metadata": {},
   "source": [
    "## Run EMGPB2 to estimate IMM parameters."
   ]
  },
  {
   "cell_type": "code",
   "execution_count": 11,
   "metadata": {},
   "outputs": [
    {
     "data": {
      "image/png": "[encoded data removed]",
      "text/plain": [
       "<Figure size 432x288 with 1 Axes>"
      ]
     },
     "metadata": {
      "needs_background": "light"
     },
     "output_type": "display_data"
    }
   ],
   "source": [
    "num_of_models = len(q)\n",
    "gaussian_models = []\n",
    "for i in range(num_of_models):\n",
    "    gaussian_models.append(EMGPB2Gaussian(np.zeros([state_dim, 1]), (init_P[i] ** 2) * np.eye(state_dim)))\n",
    "initial_gmm_state = EMGPB2GMM(gaussian_models)\n",
    "\n",
    "# measurement sequence\n",
    "detection_track_EMGPB2 = [ele.state_vector for ele in detection_track]\n",
    "gmmsequence = EMGPB2GMMSequence(np.float64(detection_track_EMGPB2), initial_gmm_state)\n",
    "dataset = [gmmsequence]\n",
    "\n",
    "# Initial models. use guessed parameters.\n",
    "randomwalk_models = []\n",
    "for i in range(num_of_models):\n",
    "    randomwalk_models.append(EMGPB2RandomWalk(q=q[i], r=r[i], state_dim=state_dim))\n",
    "\n",
    "# Switching matrix probability\n",
    "Z = np.ones((2, 2)) / 2\n",
    "\n",
    "new_models_all, Z_all, dataset, LLs = SKFEstimator.EM(dataset, randomwalk_models, Z,\n",
    "                                                 max_iters=100, threshold=1e-8, learn_H=True, learn_R=True,\n",
    "                                                 learn_A=True, learn_Q=True, learn_init_state=False, learn_Z=True,\n",
    "                                                 diagonal_Q=False, wishart_prior=False, verbose=False)\n",
    "\n",
    "\n",
    "new_models = new_models_all[-1]\n",
    "Utility.draw_convergence_figure(LLs)\n",
    "\n",
    "# new_models[0].Q = (new_models[0].Q + new_models[0].Q.T)/2\n",
    "# new_models[1].Q = (new_models[1].Q + new_models[1].Q.T)/2\n",
    "# new_models[0].R = (new_models[0].R + new_models[0].R.T)/2\n",
    "# new_models[1].R = (new_models[1].R + new_models[1].R.T)/2"
   ]
  },
  {
   "cell_type": "markdown",
   "metadata": {},
   "source": [
    "## Estimated parameters"
   ]
  },
  {
   "cell_type": "code",
   "execution_count": 12,
   "metadata": {},
   "outputs": [
    {
     "name": "stdout",
     "output_type": "stream",
     "text": [
      "Model 0\n",
      "F 0:\n",
      "[[ 0.96571872 -0.05418964]\n",
      " [-0.0332486   0.97655537]]\n",
      "H 0:\n",
      "[[0.96766394 0.00566883]\n",
      " [0.02422813 0.99030414]]\n",
      "Q 0:\n",
      "[[ 4.60839893 -0.81169791]\n",
      " [-0.81620895  4.90381641]]\n",
      "R 0:\n",
      "[[ 0.4045703  -0.10313241]\n",
      " [-0.10556537  0.70579255]]\n",
      "----------------------------\n",
      "Model 1\n",
      "F 1:\n",
      "[[0.95240841 0.01281632]\n",
      " [0.01715294 1.01156063]]\n",
      "H 1:\n",
      "[[0.96678731 0.00649698]\n",
      " [0.02860189 0.99064755]]\n",
      "Q 1:\n",
      "[[101.96511926 -10.14761626]\n",
      " [-10.15417736 114.74531597]]\n",
      "R 1:\n",
      "[[ 0.48779325 -0.15196235]\n",
      " [-0.15550166  0.98286129]]\n",
      "----------------------------\n"
     ]
    }
   ],
   "source": [
    "for i, model_ in enumerate(new_models):\n",
    "    print('Model ' + str(i))\n",
    "    print('F ' + str(i) + ':')\n",
    "    print(model_.A)\n",
    "    print('H ' + str(i) + ':')\n",
    "    print(model_.H)\n",
    "    print('Q ' + str(i) + ':')\n",
    "    print(model_.Q)\n",
    "    print('R ' + str(i) + ':')\n",
    "    print(model_.R)\n",
    "    print('----------------------------')"
   ]
  },
  {
   "cell_type": "markdown",
   "metadata": {},
   "source": [
    "## Perform IMM using paramters estimated by EMGPB2."
   ]
  },
  {
   "cell_type": "code",
   "execution_count": 13,
   "metadata": {
    "scrolled": true
   },
   "outputs": [],
   "source": [
    "# transition model\n",
    "em_transition_model_1 = LinearGaussianTimeInvariantTransitionModel(transition_matrix=new_models[0].A,\n",
    "                                                                   covariance_matrix=new_models[0].Q)\n",
    "em_transition_model_2 = LinearGaussianTimeInvariantTransitionModel(transition_matrix=new_models[1].A,\n",
    "                                                                   covariance_matrix=new_models[1].Q)\n",
    "\n",
    "# measurement noises\n",
    "em_measurement_noise_1 = new_models[0].R\n",
    "em_measurement_noise_2 = new_models[1].R\n",
    "\n",
    "# measurement model\n",
    "em_measurement_model_1 = LinearGaussian(ndim_state=2, mapping=[0, 1], \n",
    "                                        noise_covar=em_measurement_noise_1)\n",
    "em_measurement_model_2 = LinearGaussian(ndim_state=2, mapping=[0, 1], \n",
    "                                        noise_covar=em_measurement_noise_2)\n",
    "\n",
    "em_model_transition_matrix = np.array([[0.5, 0.5],\n",
    "                                       [0.5, 0.5]])\n",
    "em_predictor_1 = KalmanPredictor(em_transition_model_1)\n",
    "em_predictor_2 = KalmanPredictor(em_transition_model_2)\n",
    "em_imm_predictor = IMMPredictor([em_predictor_1, em_predictor_2], em_model_transition_matrix)\n",
    "\n",
    "em_updater_1 = KalmanUpdater(em_measurement_model_1)\n",
    "em_updater_2 = KalmanUpdater(em_measurement_model_2)\n",
    "em_imm_updater = IMMUpdater([em_updater_1, em_updater_2], em_model_transition_matrix)\n",
    "\n",
    "em_state_init = WeightedGaussianState(StateVector(np.zeros((state_dim, 1))),\n",
    "                                      CovarianceMatrix(np.eye(state_dim) * init_P[0]),\n",
    "                                      timestamp=timestamp_init,\n",
    "                                      weight=0.5)\n",
    "\n",
    "prior = GaussianMixtureState([copy(em_state_init), copy(em_state_init)])\n",
    "track = Track([copy(prior)])\n",
    "track_error = []\n",
    "\n",
    "for i in range(1, len(detection_track)-1):\n",
    "    # measurement\n",
    "    measurement = detection_track[i]\n",
    "    # State prediction\n",
    "    prediction = em_imm_predictor.predict(track.state, timestamp=gt_time[i])\n",
    "    # Measurement prediction\n",
    "    meas_prediction = em_imm_updater.predict_measurement(prediction)\n",
    "    # Association\n",
    "    hyp = SingleHypothesis(prediction, measurement)\n",
    "    # State update\n",
    "    prior = em_imm_updater.update(hyp)\n",
    "    track.append(prior)\n",
    "    track_error.append(em_measurement_model_1.function(track[i].state_vector, np.zeros((2,1))) - em_measurement_model_1.function(gt_track[i].state_vector, np.zeros((2,1))))"
   ]
  },
  {
   "cell_type": "markdown",
   "metadata": {},
   "source": [
    "## The Root Mean Squared Error (RMSE) between the estimated track (guessed parameters) and the groundtruth."
   ]
  },
  {
   "cell_type": "code",
   "execution_count": 14,
   "metadata": {},
   "outputs": [
    {
     "name": "stdout",
     "output_type": "stream",
     "text": [
      "RMSE: 0.9174128684373315\n"
     ]
    }
   ],
   "source": [
    "track_error = np.asarray(track_error)\n",
    "track_error = np.squeeze(track_error)\n",
    "rmse_tmp = []\n",
    "for track_error_ in track_error:\n",
    "    rmse_tmp.append(track_error_ @ track_error_.T)\n",
    "rmse = np.sqrt(np.mean(np.array(rmse_tmp)))\n",
    "print(\"RMSE: \" + str(rmse))"
   ]
  },
  {
   "cell_type": "code",
   "execution_count": null,
   "metadata": {},
   "outputs": [],
   "source": []
  }
 ],
 "metadata": {
  "kernelspec": {
   "display_name": "Python 3",
   "language": "python",
   "name": "python3"
  },
  "language_info": {
   "codemirror_mode": {
    "name": "ipython",
    "version": 3
   },
   "file_extension": ".py",
   "mimetype": "text/x-python",
   "name": "python",
   "nbconvert_exporter": "python",
   "pygments_lexer": "ipython3",
   "version": "3.7.6"
  }
 },
 "nbformat": 4,
 "nbformat_minor": 2
}
